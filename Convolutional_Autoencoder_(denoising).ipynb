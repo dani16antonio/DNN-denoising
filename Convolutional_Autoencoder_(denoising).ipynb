{
  "nbformat": 4,
  "nbformat_minor": 0,
  "metadata": {
    "colab": {
      "name": "Convolutional Autoencoder (denoising).ipynb",
      "provenance": [],
      "collapsed_sections": []
    },
    "kernelspec": {
      "name": "python3",
      "display_name": "Python 3"
    },
    "language_info": {
      "name": "python"
    },
    "accelerator": "GPU"
  },
  "cells": [
    {
      "cell_type": "markdown",
      "source": [
        "# Convolutional Autoencoder"
      ],
      "metadata": {
        "id": "sVCJ_Ob7V1bh"
      }
    },
    {
      "cell_type": "code",
      "execution_count": 148,
      "metadata": {
        "id": "SNbR2WvOVv8E"
      },
      "outputs": [],
      "source": [
        "import cv2\n",
        "import numpy as np\n",
        "import pandas as pd\n",
        "import matplotlib.pyplot as plt\n",
        "\n",
        "import tensorflow as tf\n",
        "from tensorflow.keras import Model, layers, utils\n",
        "from tensorflow.keras.datasets import fashion_mnist"
      ]
    },
    {
      "cell_type": "code",
      "source": [
        "def build_autoencoder(input_shape=(28,28,1), encoding_size=32, alpha=0.2):\n",
        "    inputs = layers.Input(shape=input_shape)\n",
        "    encoder = layers.Conv2D(32, 3, 2, \"same\")(inputs)\n",
        "    encoder = layers.BatchNormalization()(encoder)\n",
        "    encoder = layers.LeakyReLU(alpha)(encoder)\n",
        "\n",
        "    encoder = layers.Conv2D(64, 3, 2, \"same\")(encoder)\n",
        "    encoder = layers.BatchNormalization()(encoder)\n",
        "    encoder = layers.LeakyReLU(alpha)(encoder)\n",
        "\n",
        "    encoder_output_shape = encoder.shape\n",
        "    encoder = layers.Flatten()(encoder)\n",
        "    encoder_output = layers.Dense(encoding_size)(encoder)\n",
        "    encoder_model = Model(inputs, encoder_output)\n",
        "\n",
        "\n",
        "    decoder_input = layers.Input(shape=(encoding_size,))\n",
        "    target_shape = tuple(encoder_output_shape[1:])\n",
        "\n",
        "    decoder = layers.Dense(np.prod(target_shape))(decoder_input)\n",
        "    decoder = layers.Reshape(target_shape)(decoder)\n",
        "    decoder = layers.Conv2DTranspose(64,3,2,\"same\")(decoder)\n",
        "    decoder = layers.BatchNormalization()(decoder)\n",
        "    decoder = layers.LeakyReLU(alpha)(decoder)\n",
        "\n",
        "    decoder = layers.Conv2DTranspose(32,3,2,\"same\")(decoder)\n",
        "    decoder = layers.BatchNormalization()(decoder)\n",
        "    decoder = layers.LeakyReLU(alpha)(decoder)\n",
        "\n",
        "    decoder_output = layers.Conv2DTranspose(1, 3, padding=\"same\", \n",
        "                                     activation=\"sigmoid\")(decoder)\n",
        "\n",
        "    decoder_model = Model(decoder_input, decoder_output)\n",
        "\n",
        "    encoder_model_output = encoder_model(inputs)\n",
        "    decoder_model_output = decoder_model(encoder_model_output)\n",
        "    autoencoder_model = Model(inputs, decoder_model_output)\n",
        "    return encoder_model, decoder_model, autoencoder_model"
      ],
      "metadata": {
        "id": "G7n9sgARV6s9"
      },
      "execution_count": 149,
      "outputs": []
    },
    {
      "cell_type": "markdown",
      "source": [
        "## Plot original vs generated images"
      ],
      "metadata": {
        "id": "3nAKqczbWB4M"
      }
    },
    {
      "cell_type": "code",
      "source": [
        "def plot_original_vs_generated(original, generated):\n",
        "    num_images = 15\n",
        "    sample = np.random.randint(0, len(original), num_images)\n",
        "    def stack(data):\n",
        "        images = data[sample]\n",
        "        return np.vstack([np.hstack(images[:5]),\n",
        "                          np.hstack(images[5:10]),\n",
        "                          np.hstack(images[10:15])])\n",
        "    def add_text(image, text, position):\n",
        "        pt1 = position\n",
        "        pt2 = (pt1[0] + 10 + (len(text) * 22), pt1[1] - 45)\n",
        "        cv2.rectangle(image, pt1, pt2, (255, 255, 255), -1)\n",
        "        cv2.putText(image, text, position, fontFace=cv2.FONT_HERSHEY_SIMPLEX, \n",
        "                    fontScale=1.3, color=(0,0,0), thickness=4)\n",
        "    original = stack(original)\n",
        "    generated = stack(generated)\n",
        "    mosaic = np.vstack([original, generated])\n",
        "    mosaic = cv2.resize(mosaic, (860, 860), interpolation=cv2.INTER_AREA)\n",
        "    mosaic = cv2.cvtColor(mosaic, cv2.COLOR_GRAY2BGR)\n",
        "\n",
        "    add_text(mosaic, 'Original', (50, 100))\n",
        "    add_text(mosaic, 'Generated', (50, 520))\n",
        "\n",
        "    plt.axis(\"off\")\n",
        "    plt.title('Mosaic')\n",
        "    plt.imshow(mosaic)"
      ],
      "metadata": {
        "id": "yM0UG-3JV90p"
      },
      "execution_count": 150,
      "outputs": []
    },
    {
      "cell_type": "markdown",
      "source": [
        "## Get Dataset"
      ],
      "metadata": {
        "id": "pvnvGh0bWF8p"
      }
    },
    {
      "cell_type": "code",
      "source": [
        "(X_train, _), (X_test, _) = fashion_mnist.load_data()\n",
        "X_train = X_train.astype(\"float32\") / 255\n",
        "X_test = X_test.astype(\"float32\") / 255\n",
        "\n",
        "X_train = np.expand_dims(X_train, -1)\n",
        "X_test = np.expand_dims(X_test, -1)"
      ],
      "metadata": {
        "id": "AiTA-0IhWD4Y"
      },
      "execution_count": 151,
      "outputs": []
    },
    {
      "cell_type": "code",
      "source": [
        "train_noise = np.random.normal(loc=0.5, scale=0.45, size=X_train.shape)\n",
        "test_noise = np.random.normal(loc=0.5, scale=0.45, size=X_test.shape)"
      ],
      "metadata": {
        "id": "RpXoffbKWRlq"
      },
      "execution_count": 152,
      "outputs": []
    },
    {
      "cell_type": "code",
      "source": [
        "X_train_noisy =np.clip(X_train + train_noise, 0, 1)\n",
        "X_test_noisy = np.clip(X_test + test_noise, 0, 1)\n"
      ],
      "metadata": {
        "id": "exlFtSM4aCJY"
      },
      "execution_count": 153,
      "outputs": []
    },
    {
      "cell_type": "code",
      "source": [
        "plt.imshow(X_train_noisy[1].squeeze())"
      ],
      "metadata": {
        "colab": {
          "base_uri": "https://localhost:8080/",
          "height": 283
        },
        "id": "YKWR7ShWOF6W",
        "outputId": "6d1c7844-917d-42de-86de-560de42cb123"
      },
      "execution_count": 154,
      "outputs": [
        {
          "output_type": "execute_result",
          "data": {
            "text/plain": [
              "<matplotlib.image.AxesImage at 0x7f2968749450>"
            ]
          },
          "metadata": {},
          "execution_count": 154
        },
        {
          "output_type": "display_data",
          "data": {
            "image/png": "[encoded data removed]",
            "text/plain": [
              "<Figure size 432x288 with 1 Axes>"
            ]
          },
          "metadata": {
            "needs_background": "light"
          }
        }
      ]
    },
    {
      "cell_type": "code",
      "source": [
        "# train_data = tf.data.Dataset.from_tensor_slices((X_train_noisy.squeeze().astype(\"float32\"), X_train))\n",
        "# test_data = tf.data.Dataset.from_tensor_slices((X_test_noisy.astype(\"float32\"), X_test))\n",
        "\n",
        "#train_data.shuffle(buffer_size=512, seed=42).prefetch(tf.data.AUTOTUNE)\n",
        "#test_data.shuffle(buffer_size=512, seed=42).prefetch(tf.data.AUTOTUNE)"
      ],
      "metadata": {
        "id": "mu2T5G4ICgG4"
      },
      "execution_count": 155,
      "outputs": []
    },
    {
      "cell_type": "markdown",
      "source": [
        "## Build, compile and train the model"
      ],
      "metadata": {
        "id": "VkwXiru8gZxt"
      }
    },
    {
      "cell_type": "code",
      "source": [
        "encoder, decoder, autoencoder = build_autoencoder(encoding_size=256)\n",
        "autoencoder.compile(optimizer = 'adam', loss='mse')"
      ],
      "metadata": {
        "id": "LEUNTEj3bhDw"
      },
      "execution_count": 156,
      "outputs": []
    },
    {
      "cell_type": "code",
      "source": [
        "callbacks = []\n",
        "callbacks.append(tf.keras.callbacks.EarlyStopping(monitor='val_loss', patience=5))\n",
        "callbacks.append(tf.keras.callbacks.LearningRateScheduler(lambda epoch, lr: lr if epoch <10 else lr * tf.math.exp(-0.1)))\n",
        "callbacks.append(tf.keras.callbacks.ModelCheckpoint(\"autoencoder(denoising) V1.h5\", save_best_only=True))"
      ],
      "metadata": {
        "id": "sX37-z_8gY0u"
      },
      "execution_count": 157,
      "outputs": []
    },
    {
      "cell_type": "code",
      "source": [
        "train_data"
      ],
      "metadata": {
        "colab": {
          "base_uri": "https://localhost:8080/"
        },
        "id": "IaqwO3nMPbbl",
        "outputId": "a1084e42-70f0-4e67-86e9-0051f63383a8"
      },
      "execution_count": 158,
      "outputs": [
        {
          "output_type": "execute_result",
          "data": {
            "text/plain": [
              "<TensorSliceDataset shapes: ((28, 28), (28, 28, 1)), types: (tf.float32, tf.float32)>"
            ]
          },
          "metadata": {},
          "execution_count": 158
        }
      ]
    },
    {
      "cell_type": "code",
      "source": [
        "X_train_noisy.shape"
      ],
      "metadata": {
        "colab": {
          "base_uri": "https://localhost:8080/"
        },
        "id": "UGQQJkkmdtkc",
        "outputId": "eb800c96-6ed3-41b4-c62f-d08411bf750b"
      },
      "execution_count": 159,
      "outputs": [
        {
          "output_type": "execute_result",
          "data": {
            "text/plain": [
              "(60000, 28, 28, 1)"
            ]
          },
          "metadata": {},
          "execution_count": 159
        }
      ]
    },
    {
      "cell_type": "code",
      "source": [
        "EPOCHS = 300\n",
        "BATCH_SIZE = 128\n",
        "history = autoencoder.fit(X_train_noisy, X_train, epochs=EPOCHS, batch_size=BATCH_SIZE, \n",
        "                shuffle=True, validation_data=(X_test_noisy, X_test))"
      ],
      "metadata": {
        "colab": {
          "base_uri": "https://localhost:8080/"
        },
        "id": "4llwaJ9AEe3c",
        "outputId": "ee4496bd-237b-4084-d479-4b3ea0b69ef2"
      },
      "execution_count": 160,
      "outputs": [
        {
          "output_type": "stream",
          "name": "stdout",
          "text": [
            "Epoch 1/300\n",
            "469/469 [==============================] - 20s 36ms/step - loss: 0.0221 - val_loss: 0.0174\n",
            "Epoch 2/300\n",
            "469/469 [==============================] - 12s 26ms/step - loss: 0.0143 - val_loss: 0.0157\n",
            "Epoch 3/300\n",
            "469/469 [==============================] - 10s 22ms/step - loss: 0.0131 - val_loss: 0.0139\n",
            "Epoch 4/300\n",
            "469/469 [==============================] - 10s 22ms/step - loss: 0.0125 - val_loss: 0.0126\n",
            "Epoch 5/300\n",
            "469/469 [==============================] - 10s 22ms/step - loss: 0.0121 - val_loss: 0.0126\n",
            "Epoch 6/300\n",
            "469/469 [==============================] - 10s 22ms/step - loss: 0.0117 - val_loss: 0.0123\n",
            "Epoch 7/300\n",
            "469/469 [==============================] - 10s 22ms/step - loss: 0.0114 - val_loss: 0.0129\n",
            "Epoch 8/300\n",
            "469/469 [==============================] - 10s 21ms/step - loss: 0.0111 - val_loss: 0.0153\n",
            "Epoch 9/300\n",
            "469/469 [==============================] - 11s 23ms/step - loss: 0.0109 - val_loss: 0.0122\n",
            "Epoch 10/300\n",
            "469/469 [==============================] - 10s 21ms/step - loss: 0.0107 - val_loss: 0.0161\n",
            "Epoch 11/300\n",
            "469/469 [==============================] - 10s 21ms/step - loss: 0.0105 - val_loss: 0.0136\n",
            "Epoch 12/300\n",
            "469/469 [==============================] - 11s 24ms/step - loss: 0.0103 - val_loss: 0.0120\n",
            "Epoch 13/300\n",
            "469/469 [==============================] - 10s 22ms/step - loss: 0.0101 - val_loss: 0.0133\n",
            "Epoch 14/300\n",
            "469/469 [==============================] - 11s 23ms/step - loss: 0.0099 - val_loss: 0.0134\n",
            "Epoch 15/300\n",
            "469/469 [==============================] - 10s 21ms/step - loss: 0.0098 - val_loss: 0.0139\n",
            "Epoch 16/300\n",
            "469/469 [==============================] - 11s 24ms/step - loss: 0.0096 - val_loss: 0.0139\n",
            "Epoch 17/300\n",
            "469/469 [==============================] - 10s 22ms/step - loss: 0.0094 - val_loss: 0.0131\n",
            "Epoch 18/300\n",
            "469/469 [==============================] - 10s 22ms/step - loss: 0.0093 - val_loss: 0.0131\n",
            "Epoch 19/300\n",
            "469/469 [==============================] - 10s 22ms/step - loss: 0.0092 - val_loss: 0.0136\n",
            "Epoch 20/300\n",
            "469/469 [==============================] - 10s 22ms/step - loss: 0.0091 - val_loss: 0.0129\n",
            "Epoch 21/300\n",
            "469/469 [==============================] - 10s 22ms/step - loss: 0.0089 - val_loss: 0.0139\n",
            "Epoch 22/300\n",
            "469/469 [==============================] - 10s 22ms/step - loss: 0.0088 - val_loss: 0.0160\n",
            "Epoch 23/300\n",
            "469/469 [==============================] - 11s 23ms/step - loss: 0.0087 - val_loss: 0.0128\n",
            "Epoch 24/300\n",
            "469/469 [==============================] - 10s 22ms/step - loss: 0.0086 - val_loss: 0.0154\n",
            "Epoch 25/300\n",
            "469/469 [==============================] - 10s 22ms/step - loss: 0.0085 - val_loss: 0.0131\n",
            "Epoch 26/300\n",
            "469/469 [==============================] - 10s 22ms/step - loss: 0.0084 - val_loss: 0.0132\n",
            "Epoch 27/300\n",
            "469/469 [==============================] - 10s 22ms/step - loss: 0.0083 - val_loss: 0.0127\n",
            "Epoch 28/300\n",
            "469/469 [==============================] - 10s 22ms/step - loss: 0.0083 - val_loss: 0.0146\n",
            "Epoch 29/300\n",
            "469/469 [==============================] - 10s 22ms/step - loss: 0.0082 - val_loss: 0.0141\n",
            "Epoch 30/300\n",
            "469/469 [==============================] - 10s 22ms/step - loss: 0.0081 - val_loss: 0.0161\n",
            "Epoch 31/300\n",
            "469/469 [==============================] - 10s 22ms/step - loss: 0.0080 - val_loss: 0.0134\n",
            "Epoch 32/300\n",
            "469/469 [==============================] - 10s 22ms/step - loss: 0.0080 - val_loss: 0.0137\n",
            "Epoch 33/300\n",
            "469/469 [==============================] - 10s 22ms/step - loss: 0.0079 - val_loss: 0.0149\n",
            "Epoch 34/300\n",
            "469/469 [==============================] - 10s 22ms/step - loss: 0.0078 - val_loss: 0.0131\n",
            "Epoch 35/300\n",
            "469/469 [==============================] - 10s 22ms/step - loss: 0.0078 - val_loss: 0.0131\n",
            "Epoch 36/300\n",
            "469/469 [==============================] - 10s 22ms/step - loss: 0.0078 - val_loss: 0.0144\n",
            "Epoch 37/300\n",
            "469/469 [==============================] - 10s 21ms/step - loss: 0.0077 - val_loss: 0.0131\n",
            "Epoch 38/300\n",
            "469/469 [==============================] - 10s 22ms/step - loss: 0.0076 - val_loss: 0.0142\n",
            "Epoch 39/300\n",
            "469/469 [==============================] - 10s 22ms/step - loss: 0.0076 - val_loss: 0.0134\n",
            "Epoch 40/300\n",
            "469/469 [==============================] - 11s 23ms/step - loss: 0.0075 - val_loss: 0.0137\n",
            "Epoch 41/300\n",
            "469/469 [==============================] - 10s 21ms/step - loss: 0.0075 - val_loss: 0.0139\n",
            "Epoch 42/300\n",
            "469/469 [==============================] - 10s 21ms/step - loss: 0.0075 - val_loss: 0.0139\n",
            "Epoch 43/300\n",
            "469/469 [==============================] - 10s 22ms/step - loss: 0.0074 - val_loss: 0.0135\n",
            "Epoch 44/300\n",
            "469/469 [==============================] - 10s 22ms/step - loss: 0.0074 - val_loss: 0.0135\n",
            "Epoch 45/300\n",
            "469/469 [==============================] - 10s 22ms/step - loss: 0.0073 - val_loss: 0.0149\n",
            "Epoch 46/300\n",
            "469/469 [==============================] - 10s 21ms/step - loss: 0.0073 - val_loss: 0.0138\n",
            "Epoch 47/300\n",
            "469/469 [==============================] - 10s 21ms/step - loss: 0.0073 - val_loss: 0.0136\n",
            "Epoch 48/300\n",
            "469/469 [==============================] - 10s 22ms/step - loss: 0.0072 - val_loss: 0.0139\n",
            "Epoch 49/300\n",
            "469/469 [==============================] - 10s 21ms/step - loss: 0.0072 - val_loss: 0.0157\n",
            "Epoch 50/300\n",
            "469/469 [==============================] - 10s 22ms/step - loss: 0.0072 - val_loss: 0.0144\n",
            "Epoch 51/300\n",
            "469/469 [==============================] - 10s 21ms/step - loss: 0.0072 - val_loss: 0.0140\n",
            "Epoch 52/300\n",
            "469/469 [==============================] - 10s 21ms/step - loss: 0.0071 - val_loss: 0.0138\n",
            "Epoch 53/300\n",
            "469/469 [==============================] - 10s 22ms/step - loss: 0.0071 - val_loss: 0.0146\n",
            "Epoch 54/300\n",
            "469/469 [==============================] - 10s 21ms/step - loss: 0.0070 - val_loss: 0.0158\n",
            "Epoch 55/300\n",
            "469/469 [==============================] - 10s 21ms/step - loss: 0.0070 - val_loss: 0.0145\n",
            "Epoch 56/300\n",
            "469/469 [==============================] - 10s 22ms/step - loss: 0.0070 - val_loss: 0.0150\n",
            "Epoch 57/300\n",
            "469/469 [==============================] - 10s 22ms/step - loss: 0.0070 - val_loss: 0.0139\n",
            "Epoch 58/300\n",
            "469/469 [==============================] - 11s 23ms/step - loss: 0.0069 - val_loss: 0.0140\n",
            "Epoch 59/300\n",
            "469/469 [==============================] - 10s 21ms/step - loss: 0.0069 - val_loss: 0.0154\n",
            "Epoch 60/300\n",
            "469/469 [==============================] - 10s 21ms/step - loss: 0.0069 - val_loss: 0.0146\n",
            "Epoch 61/300\n",
            "469/469 [==============================] - 11s 23ms/step - loss: 0.0069 - val_loss: 0.0158\n",
            "Epoch 62/300\n",
            "469/469 [==============================] - 10s 22ms/step - loss: 0.0069 - val_loss: 0.0169\n",
            "Epoch 63/300\n",
            "469/469 [==============================] - 10s 21ms/step - loss: 0.0068 - val_loss: 0.0148\n",
            "Epoch 64/300\n",
            "469/469 [==============================] - 10s 21ms/step - loss: 0.0068 - val_loss: 0.0148\n",
            "Epoch 65/300\n",
            "469/469 [==============================] - 10s 21ms/step - loss: 0.0068 - val_loss: 0.0142\n",
            "Epoch 66/300\n",
            "469/469 [==============================] - 10s 21ms/step - loss: 0.0068 - val_loss: 0.0148\n",
            "Epoch 67/300\n",
            "469/469 [==============================] - 10s 21ms/step - loss: 0.0068 - val_loss: 0.0150\n",
            "Epoch 68/300\n",
            "469/469 [==============================] - 10s 22ms/step - loss: 0.0067 - val_loss: 0.0165\n",
            "Epoch 69/300\n",
            "469/469 [==============================] - 10s 22ms/step - loss: 0.0067 - val_loss: 0.0153\n",
            "Epoch 70/300\n",
            "469/469 [==============================] - 10s 21ms/step - loss: 0.0067 - val_loss: 0.0144\n",
            "Epoch 71/300\n",
            "469/469 [==============================] - 10s 22ms/step - loss: 0.0067 - val_loss: 0.0148\n",
            "Epoch 72/300\n",
            "469/469 [==============================] - 10s 21ms/step - loss: 0.0066 - val_loss: 0.0148\n",
            "Epoch 73/300\n",
            "469/469 [==============================] - 10s 22ms/step - loss: 0.0066 - val_loss: 0.0145\n",
            "Epoch 74/300\n",
            "469/469 [==============================] - 10s 21ms/step - loss: 0.0066 - val_loss: 0.0144\n",
            "Epoch 75/300\n",
            "469/469 [==============================] - 10s 22ms/step - loss: 0.0066 - val_loss: 0.0148\n",
            "Epoch 76/300\n",
            "469/469 [==============================] - 10s 22ms/step - loss: 0.0066 - val_loss: 0.0145\n",
            "Epoch 77/300\n",
            "469/469 [==============================] - 10s 21ms/step - loss: 0.0066 - val_loss: 0.0155\n",
            "Epoch 78/300\n",
            "469/469 [==============================] - 10s 21ms/step - loss: 0.0066 - val_loss: 0.0158\n",
            "Epoch 79/300\n",
            "469/469 [==============================] - 10s 22ms/step - loss: 0.0065 - val_loss: 0.0149\n",
            "Epoch 80/300\n",
            "469/469 [==============================] - 11s 23ms/step - loss: 0.0065 - val_loss: 0.0156\n",
            "Epoch 81/300\n",
            "469/469 [==============================] - 10s 21ms/step - loss: 0.0065 - val_loss: 0.0164\n",
            "Epoch 82/300\n",
            "469/469 [==============================] - 10s 22ms/step - loss: 0.0065 - val_loss: 0.0153\n",
            "Epoch 83/300\n",
            "469/469 [==============================] - 10s 22ms/step - loss: 0.0065 - val_loss: 0.0150\n",
            "Epoch 84/300\n",
            "469/469 [==============================] - 10s 22ms/step - loss: 0.0065 - val_loss: 0.0148\n",
            "Epoch 85/300\n",
            "469/469 [==============================] - 10s 22ms/step - loss: 0.0065 - val_loss: 0.0147\n",
            "Epoch 86/300\n",
            "469/469 [==============================] - 10s 21ms/step - loss: 0.0065 - val_loss: 0.0148\n",
            "Epoch 87/300\n",
            "469/469 [==============================] - 10s 21ms/step - loss: 0.0064 - val_loss: 0.0148\n",
            "Epoch 88/300\n",
            "469/469 [==============================] - 11s 23ms/step - loss: 0.0064 - val_loss: 0.0164\n",
            "Epoch 89/300\n",
            "469/469 [==============================] - 10s 21ms/step - loss: 0.0065 - val_loss: 0.0146\n",
            "Epoch 90/300\n",
            "469/469 [==============================] - 10s 21ms/step - loss: 0.0064 - val_loss: 0.0153\n",
            "Epoch 91/300\n",
            "469/469 [==============================] - 10s 22ms/step - loss: 0.0064 - val_loss: 0.0155\n",
            "Epoch 92/300\n",
            "469/469 [==============================] - 10s 22ms/step - loss: 0.0064 - val_loss: 0.0158\n",
            "Epoch 93/300\n",
            "469/469 [==============================] - 10s 21ms/step - loss: 0.0064 - val_loss: 0.0148\n",
            "Epoch 94/300\n",
            "469/469 [==============================] - 10s 22ms/step - loss: 0.0064 - val_loss: 0.0147\n",
            "Epoch 95/300\n",
            "469/469 [==============================] - 10s 22ms/step - loss: 0.0064 - val_loss: 0.0150\n",
            "Epoch 96/300\n",
            "469/469 [==============================] - 10s 22ms/step - loss: 0.0063 - val_loss: 0.0149\n",
            "Epoch 97/300\n",
            "469/469 [==============================] - 10s 22ms/step - loss: 0.0063 - val_loss: 0.0151\n",
            "Epoch 98/300\n",
            "469/469 [==============================] - 10s 22ms/step - loss: 0.0063 - val_loss: 0.0151\n",
            "Epoch 99/300\n",
            "469/469 [==============================] - 10s 22ms/step - loss: 0.0063 - val_loss: 0.0149\n",
            "Epoch 100/300\n",
            "469/469 [==============================] - 10s 22ms/step - loss: 0.0063 - val_loss: 0.0154\n",
            "Epoch 101/300\n",
            "469/469 [==============================] - 10s 22ms/step - loss: 0.0063 - val_loss: 0.0151\n",
            "Epoch 102/300\n",
            "469/469 [==============================] - 10s 22ms/step - loss: 0.0063 - val_loss: 0.0160\n",
            "Epoch 103/300\n",
            "469/469 [==============================] - 10s 22ms/step - loss: 0.0063 - val_loss: 0.0155\n",
            "Epoch 104/300\n",
            "469/469 [==============================] - 10s 22ms/step - loss: 0.0063 - val_loss: 0.0155\n",
            "Epoch 105/300\n",
            "469/469 [==============================] - 10s 22ms/step - loss: 0.0063 - val_loss: 0.0154\n",
            "Epoch 106/300\n",
            "469/469 [==============================] - 10s 22ms/step - loss: 0.0063 - val_loss: 0.0152\n",
            "Epoch 107/300\n",
            "469/469 [==============================] - 10s 22ms/step - loss: 0.0062 - val_loss: 0.0156\n",
            "Epoch 108/300\n",
            "469/469 [==============================] - 10s 22ms/step - loss: 0.0062 - val_loss: 0.0152\n",
            "Epoch 109/300\n",
            "469/469 [==============================] - 10s 22ms/step - loss: 0.0062 - val_loss: 0.0153\n",
            "Epoch 110/300\n",
            "469/469 [==============================] - 10s 22ms/step - loss: 0.0062 - val_loss: 0.0155\n",
            "Epoch 111/300\n",
            "469/469 [==============================] - 10s 21ms/step - loss: 0.0062 - val_loss: 0.0154\n",
            "Epoch 112/300\n",
            "469/469 [==============================] - 10s 21ms/step - loss: 0.0062 - val_loss: 0.0157\n",
            "Epoch 113/300\n",
            "469/469 [==============================] - 10s 21ms/step - loss: 0.0062 - val_loss: 0.0169\n",
            "Epoch 114/300\n",
            "469/469 [==============================] - 10s 22ms/step - loss: 0.0062 - val_loss: 0.0160\n",
            "Epoch 115/300\n",
            "469/469 [==============================] - 10s 22ms/step - loss: 0.0062 - val_loss: 0.0153\n",
            "Epoch 116/300\n",
            "469/469 [==============================] - 10s 22ms/step - loss: 0.0062 - val_loss: 0.0150\n",
            "Epoch 117/300\n",
            "469/469 [==============================] - 10s 22ms/step - loss: 0.0061 - val_loss: 0.0151\n",
            "Epoch 118/300\n",
            "469/469 [==============================] - 10s 22ms/step - loss: 0.0061 - val_loss: 0.0156\n",
            "Epoch 119/300\n",
            "469/469 [==============================] - 10s 22ms/step - loss: 0.0062 - val_loss: 0.0152\n",
            "Epoch 120/300\n",
            "469/469 [==============================] - 10s 22ms/step - loss: 0.0061 - val_loss: 0.0153\n",
            "Epoch 121/300\n",
            "469/469 [==============================] - 10s 22ms/step - loss: 0.0061 - val_loss: 0.0169\n",
            "Epoch 122/300\n",
            "469/469 [==============================] - 10s 22ms/step - loss: 0.0061 - val_loss: 0.0159\n",
            "Epoch 123/300\n",
            "469/469 [==============================] - 10s 22ms/step - loss: 0.0061 - val_loss: 0.0155\n",
            "Epoch 124/300\n",
            "469/469 [==============================] - 10s 22ms/step - loss: 0.0061 - val_loss: 0.0158\n",
            "Epoch 125/300\n",
            "469/469 [==============================] - 10s 22ms/step - loss: 0.0061 - val_loss: 0.0155\n",
            "Epoch 126/300\n",
            "469/469 [==============================] - 10s 22ms/step - loss: 0.0061 - val_loss: 0.0155\n",
            "Epoch 127/300\n",
            "469/469 [==============================] - 10s 22ms/step - loss: 0.0061 - val_loss: 0.0158\n",
            "Epoch 128/300\n",
            "469/469 [==============================] - 10s 22ms/step - loss: 0.0061 - val_loss: 0.0157\n",
            "Epoch 129/300\n",
            "469/469 [==============================] - 10s 22ms/step - loss: 0.0061 - val_loss: 0.0156\n",
            "Epoch 130/300\n",
            "469/469 [==============================] - 10s 22ms/step - loss: 0.0061 - val_loss: 0.0156\n",
            "Epoch 131/300\n",
            "469/469 [==============================] - 10s 22ms/step - loss: 0.0061 - val_loss: 0.0155\n",
            "Epoch 132/300\n",
            "469/469 [==============================] - 10s 22ms/step - loss: 0.0061 - val_loss: 0.0164\n",
            "Epoch 133/300\n",
            "469/469 [==============================] - 10s 22ms/step - loss: 0.0061 - val_loss: 0.0155\n",
            "Epoch 134/300\n",
            "469/469 [==============================] - 10s 22ms/step - loss: 0.0060 - val_loss: 0.0155\n",
            "Epoch 135/300\n",
            "469/469 [==============================] - 10s 22ms/step - loss: 0.0060 - val_loss: 0.0158\n",
            "Epoch 136/300\n",
            "469/469 [==============================] - 10s 22ms/step - loss: 0.0060 - val_loss: 0.0159\n",
            "Epoch 137/300\n",
            "469/469 [==============================] - 10s 22ms/step - loss: 0.0060 - val_loss: 0.0156\n",
            "Epoch 138/300\n",
            "469/469 [==============================] - 10s 22ms/step - loss: 0.0060 - val_loss: 0.0163\n",
            "Epoch 139/300\n",
            "469/469 [==============================] - 10s 22ms/step - loss: 0.0060 - val_loss: 0.0162\n",
            "Epoch 140/300\n",
            "469/469 [==============================] - 10s 22ms/step - loss: 0.0060 - val_loss: 0.0156\n",
            "Epoch 141/300\n",
            "469/469 [==============================] - 10s 22ms/step - loss: 0.0060 - val_loss: 0.0162\n",
            "Epoch 142/300\n",
            "469/469 [==============================] - 11s 23ms/step - loss: 0.0060 - val_loss: 0.0161\n",
            "Epoch 143/300\n",
            "469/469 [==============================] - 10s 22ms/step - loss: 0.0060 - val_loss: 0.0156\n",
            "Epoch 144/300\n",
            "469/469 [==============================] - 10s 22ms/step - loss: 0.0060 - val_loss: 0.0158\n",
            "Epoch 145/300\n",
            "469/469 [==============================] - 10s 22ms/step - loss: 0.0060 - val_loss: 0.0163\n",
            "Epoch 146/300\n",
            "469/469 [==============================] - 10s 22ms/step - loss: 0.0060 - val_loss: 0.0160\n",
            "Epoch 147/300\n",
            "469/469 [==============================] - 10s 22ms/step - loss: 0.0060 - val_loss: 0.0155\n",
            "Epoch 148/300\n",
            "469/469 [==============================] - 10s 22ms/step - loss: 0.0060 - val_loss: 0.0161\n",
            "Epoch 149/300\n",
            "469/469 [==============================] - 10s 22ms/step - loss: 0.0060 - val_loss: 0.0158\n",
            "Epoch 150/300\n",
            "469/469 [==============================] - 10s 22ms/step - loss: 0.0060 - val_loss: 0.0158\n",
            "Epoch 151/300\n",
            "469/469 [==============================] - 10s 22ms/step - loss: 0.0059 - val_loss: 0.0159\n",
            "Epoch 152/300\n",
            "469/469 [==============================] - 10s 22ms/step - loss: 0.0060 - val_loss: 0.0157\n",
            "Epoch 153/300\n",
            "469/469 [==============================] - 10s 22ms/step - loss: 0.0059 - val_loss: 0.0163\n",
            "Epoch 154/300\n",
            "469/469 [==============================] - 10s 22ms/step - loss: 0.0059 - val_loss: 0.0166\n",
            "Epoch 155/300\n",
            "469/469 [==============================] - 10s 22ms/step - loss: 0.0059 - val_loss: 0.0162\n",
            "Epoch 156/300\n",
            "469/469 [==============================] - 10s 22ms/step - loss: 0.0059 - val_loss: 0.0159\n",
            "Epoch 157/300\n",
            "469/469 [==============================] - 10s 22ms/step - loss: 0.0059 - val_loss: 0.0162\n",
            "Epoch 158/300\n",
            "469/469 [==============================] - 11s 23ms/step - loss: 0.0059 - val_loss: 0.0163\n",
            "Epoch 159/300\n",
            "469/469 [==============================] - 10s 22ms/step - loss: 0.0059 - val_loss: 0.0161\n",
            "Epoch 160/300\n",
            "469/469 [==============================] - 10s 22ms/step - loss: 0.0059 - val_loss: 0.0158\n",
            "Epoch 161/300\n",
            "469/469 [==============================] - 11s 23ms/step - loss: 0.0059 - val_loss: 0.0166\n",
            "Epoch 162/300\n",
            "469/469 [==============================] - 10s 22ms/step - loss: 0.0059 - val_loss: 0.0159\n",
            "Epoch 163/300\n",
            "469/469 [==============================] - 10s 22ms/step - loss: 0.0059 - val_loss: 0.0162\n",
            "Epoch 164/300\n",
            "469/469 [==============================] - 10s 22ms/step - loss: 0.0059 - val_loss: 0.0156\n",
            "Epoch 165/300\n",
            "469/469 [==============================] - 10s 22ms/step - loss: 0.0059 - val_loss: 0.0160\n",
            "Epoch 166/300\n",
            "469/469 [==============================] - 10s 22ms/step - loss: 0.0059 - val_loss: 0.0158\n",
            "Epoch 167/300\n",
            "469/469 [==============================] - 10s 22ms/step - loss: 0.0059 - val_loss: 0.0160\n",
            "Epoch 168/300\n",
            "469/469 [==============================] - 10s 22ms/step - loss: 0.0059 - val_loss: 0.0161\n",
            "Epoch 169/300\n",
            "469/469 [==============================] - 10s 22ms/step - loss: 0.0059 - val_loss: 0.0163\n",
            "Epoch 170/300\n",
            "469/469 [==============================] - 10s 22ms/step - loss: 0.0058 - val_loss: 0.0165\n",
            "Epoch 171/300\n",
            "469/469 [==============================] - 10s 22ms/step - loss: 0.0059 - val_loss: 0.0165\n",
            "Epoch 172/300\n",
            "469/469 [==============================] - 10s 22ms/step - loss: 0.0059 - val_loss: 0.0165\n",
            "Epoch 173/300\n",
            "469/469 [==============================] - 10s 22ms/step - loss: 0.0058 - val_loss: 0.0159\n",
            "Epoch 174/300\n",
            "469/469 [==============================] - 10s 22ms/step - loss: 0.0058 - val_loss: 0.0159\n",
            "Epoch 175/300\n",
            "469/469 [==============================] - 10s 22ms/step - loss: 0.0058 - val_loss: 0.0158\n",
            "Epoch 176/300\n",
            "469/469 [==============================] - 10s 22ms/step - loss: 0.0059 - val_loss: 0.0158\n",
            "Epoch 177/300\n",
            "469/469 [==============================] - 10s 22ms/step - loss: 0.0058 - val_loss: 0.0163\n",
            "Epoch 178/300\n",
            "469/469 [==============================] - 10s 22ms/step - loss: 0.0058 - val_loss: 0.0162\n",
            "Epoch 179/300\n",
            "469/469 [==============================] - 10s 22ms/step - loss: 0.0058 - val_loss: 0.0161\n",
            "Epoch 180/300\n",
            "469/469 [==============================] - 10s 22ms/step - loss: 0.0058 - val_loss: 0.0165\n",
            "Epoch 181/300\n",
            "469/469 [==============================] - 10s 22ms/step - loss: 0.0058 - val_loss: 0.0168\n",
            "Epoch 182/300\n",
            "469/469 [==============================] - 10s 22ms/step - loss: 0.0058 - val_loss: 0.0163\n",
            "Epoch 183/300\n",
            "469/469 [==============================] - 10s 22ms/step - loss: 0.0058 - val_loss: 0.0167\n",
            "Epoch 184/300\n",
            "469/469 [==============================] - 10s 22ms/step - loss: 0.0058 - val_loss: 0.0162\n",
            "Epoch 185/300\n",
            "469/469 [==============================] - 10s 22ms/step - loss: 0.0058 - val_loss: 0.0163\n",
            "Epoch 186/300\n",
            "469/469 [==============================] - 10s 22ms/step - loss: 0.0058 - val_loss: 0.0165\n",
            "Epoch 187/300\n",
            "469/469 [==============================] - 10s 22ms/step - loss: 0.0058 - val_loss: 0.0158\n",
            "Epoch 188/300\n",
            "469/469 [==============================] - 10s 22ms/step - loss: 0.0058 - val_loss: 0.0166\n",
            "Epoch 189/300\n",
            "469/469 [==============================] - 10s 22ms/step - loss: 0.0058 - val_loss: 0.0168\n",
            "Epoch 190/300\n",
            "469/469 [==============================] - 10s 22ms/step - loss: 0.0058 - val_loss: 0.0159\n",
            "Epoch 191/300\n",
            "469/469 [==============================] - 10s 22ms/step - loss: 0.0058 - val_loss: 0.0159\n",
            "Epoch 192/300\n",
            "469/469 [==============================] - 10s 22ms/step - loss: 0.0058 - val_loss: 0.0161\n",
            "Epoch 193/300\n",
            "469/469 [==============================] - 10s 22ms/step - loss: 0.0058 - val_loss: 0.0164\n",
            "Epoch 194/300\n",
            "469/469 [==============================] - 10s 22ms/step - loss: 0.0058 - val_loss: 0.0165\n",
            "Epoch 195/300\n",
            "469/469 [==============================] - 10s 22ms/step - loss: 0.0058 - val_loss: 0.0167\n",
            "Epoch 196/300\n",
            "469/469 [==============================] - 10s 22ms/step - loss: 0.0058 - val_loss: 0.0161\n",
            "Epoch 197/300\n",
            "469/469 [==============================] - 10s 22ms/step - loss: 0.0058 - val_loss: 0.0162\n",
            "Epoch 198/300\n",
            "469/469 [==============================] - 10s 22ms/step - loss: 0.0058 - val_loss: 0.0166\n",
            "Epoch 199/300\n",
            "469/469 [==============================] - 10s 22ms/step - loss: 0.0057 - val_loss: 0.0161\n",
            "Epoch 200/300\n",
            "469/469 [==============================] - 10s 22ms/step - loss: 0.0057 - val_loss: 0.0169\n",
            "Epoch 201/300\n",
            "469/469 [==============================] - 11s 24ms/step - loss: 0.0058 - val_loss: 0.0161\n",
            "Epoch 202/300\n",
            "469/469 [==============================] - 10s 22ms/step - loss: 0.0057 - val_loss: 0.0162\n",
            "Epoch 203/300\n",
            "469/469 [==============================] - 10s 22ms/step - loss: 0.0058 - val_loss: 0.0157\n",
            "Epoch 204/300\n",
            "469/469 [==============================] - 10s 22ms/step - loss: 0.0057 - val_loss: 0.0162\n",
            "Epoch 205/300\n",
            "469/469 [==============================] - 10s 22ms/step - loss: 0.0057 - val_loss: 0.0161\n",
            "Epoch 206/300\n",
            "469/469 [==============================] - 10s 22ms/step - loss: 0.0057 - val_loss: 0.0162\n",
            "Epoch 207/300\n",
            "469/469 [==============================] - 10s 22ms/step - loss: 0.0057 - val_loss: 0.0162\n",
            "Epoch 208/300\n",
            "469/469 [==============================] - 10s 22ms/step - loss: 0.0057 - val_loss: 0.0163\n",
            "Epoch 209/300\n",
            "469/469 [==============================] - 10s 22ms/step - loss: 0.0057 - val_loss: 0.0168\n",
            "Epoch 210/300\n",
            "469/469 [==============================] - 10s 22ms/step - loss: 0.0057 - val_loss: 0.0168\n",
            "Epoch 211/300\n",
            "469/469 [==============================] - 10s 22ms/step - loss: 0.0057 - val_loss: 0.0173\n",
            "Epoch 212/300\n",
            "469/469 [==============================] - 10s 22ms/step - loss: 0.0057 - val_loss: 0.0165\n",
            "Epoch 213/300\n",
            "469/469 [==============================] - 10s 22ms/step - loss: 0.0057 - val_loss: 0.0164\n",
            "Epoch 214/300\n",
            "469/469 [==============================] - 10s 22ms/step - loss: 0.0057 - val_loss: 0.0160\n",
            "Epoch 215/300\n",
            "469/469 [==============================] - 10s 22ms/step - loss: 0.0057 - val_loss: 0.0162\n",
            "Epoch 216/300\n",
            "469/469 [==============================] - 10s 22ms/step - loss: 0.0057 - val_loss: 0.0163\n",
            "Epoch 217/300\n",
            "469/469 [==============================] - 10s 22ms/step - loss: 0.0057 - val_loss: 0.0169\n",
            "Epoch 218/300\n",
            "469/469 [==============================] - 11s 23ms/step - loss: 0.0057 - val_loss: 0.0165\n",
            "Epoch 219/300\n",
            "469/469 [==============================] - 10s 22ms/step - loss: 0.0057 - val_loss: 0.0166\n",
            "Epoch 220/300\n",
            "469/469 [==============================] - 10s 22ms/step - loss: 0.0057 - val_loss: 0.0159\n",
            "Epoch 221/300\n",
            "469/469 [==============================] - 10s 22ms/step - loss: 0.0057 - val_loss: 0.0165\n",
            "Epoch 222/300\n",
            "469/469 [==============================] - 11s 23ms/step - loss: 0.0057 - val_loss: 0.0166\n",
            "Epoch 223/300\n",
            "469/469 [==============================] - 10s 22ms/step - loss: 0.0057 - val_loss: 0.0165\n",
            "Epoch 224/300\n",
            "469/469 [==============================] - 10s 22ms/step - loss: 0.0057 - val_loss: 0.0167\n",
            "Epoch 225/300\n",
            "469/469 [==============================] - 10s 22ms/step - loss: 0.0057 - val_loss: 0.0165\n",
            "Epoch 226/300\n",
            "469/469 [==============================] - 10s 22ms/step - loss: 0.0057 - val_loss: 0.0162\n",
            "Epoch 227/300\n",
            "469/469 [==============================] - 10s 22ms/step - loss: 0.0057 - val_loss: 0.0164\n",
            "Epoch 228/300\n",
            "469/469 [==============================] - 10s 22ms/step - loss: 0.0057 - val_loss: 0.0165\n",
            "Epoch 229/300\n",
            "469/469 [==============================] - 10s 22ms/step - loss: 0.0057 - val_loss: 0.0164\n",
            "Epoch 230/300\n",
            "469/469 [==============================] - 10s 22ms/step - loss: 0.0057 - val_loss: 0.0166\n",
            "Epoch 231/300\n",
            "469/469 [==============================] - 10s 22ms/step - loss: 0.0057 - val_loss: 0.0162\n",
            "Epoch 232/300\n",
            "469/469 [==============================] - 10s 22ms/step - loss: 0.0057 - val_loss: 0.0162\n",
            "Epoch 233/300\n",
            "469/469 [==============================] - 10s 22ms/step - loss: 0.0056 - val_loss: 0.0166\n",
            "Epoch 234/300\n",
            "469/469 [==============================] - 10s 22ms/step - loss: 0.0057 - val_loss: 0.0166\n",
            "Epoch 235/300\n",
            "469/469 [==============================] - 10s 22ms/step - loss: 0.0057 - val_loss: 0.0166\n",
            "Epoch 236/300\n",
            "469/469 [==============================] - 10s 22ms/step - loss: 0.0056 - val_loss: 0.0163\n",
            "Epoch 237/300\n",
            "469/469 [==============================] - 10s 22ms/step - loss: 0.0056 - val_loss: 0.0166\n",
            "Epoch 238/300\n",
            "469/469 [==============================] - 10s 22ms/step - loss: 0.0057 - val_loss: 0.0164\n",
            "Epoch 239/300\n",
            "469/469 [==============================] - 10s 22ms/step - loss: 0.0056 - val_loss: 0.0164\n",
            "Epoch 240/300\n",
            "469/469 [==============================] - 10s 22ms/step - loss: 0.0056 - val_loss: 0.0166\n",
            "Epoch 241/300\n",
            "469/469 [==============================] - 10s 22ms/step - loss: 0.0056 - val_loss: 0.0169\n",
            "Epoch 242/300\n",
            "469/469 [==============================] - 10s 22ms/step - loss: 0.0056 - val_loss: 0.0162\n",
            "Epoch 243/300\n",
            "469/469 [==============================] - 11s 22ms/step - loss: 0.0056 - val_loss: 0.0165\n",
            "Epoch 244/300\n",
            "469/469 [==============================] - 10s 22ms/step - loss: 0.0056 - val_loss: 0.0165\n",
            "Epoch 245/300\n",
            "469/469 [==============================] - 10s 22ms/step - loss: 0.0056 - val_loss: 0.0166\n",
            "Epoch 246/300\n",
            "469/469 [==============================] - 10s 22ms/step - loss: 0.0056 - val_loss: 0.0163\n",
            "Epoch 247/300\n",
            "469/469 [==============================] - 10s 22ms/step - loss: 0.0056 - val_loss: 0.0164\n",
            "Epoch 248/300\n",
            "469/469 [==============================] - 10s 22ms/step - loss: 0.0056 - val_loss: 0.0166\n",
            "Epoch 249/300\n",
            "469/469 [==============================] - 10s 22ms/step - loss: 0.0056 - val_loss: 0.0164\n",
            "Epoch 250/300\n",
            "469/469 [==============================] - 10s 22ms/step - loss: 0.0056 - val_loss: 0.0165\n",
            "Epoch 251/300\n",
            "469/469 [==============================] - 10s 22ms/step - loss: 0.0056 - val_loss: 0.0174\n",
            "Epoch 252/300\n",
            "469/469 [==============================] - 10s 22ms/step - loss: 0.0056 - val_loss: 0.0164\n",
            "Epoch 253/300\n",
            "469/469 [==============================] - 11s 23ms/step - loss: 0.0056 - val_loss: 0.0165\n",
            "Epoch 254/300\n",
            "469/469 [==============================] - 10s 22ms/step - loss: 0.0056 - val_loss: 0.0170\n",
            "Epoch 255/300\n",
            "469/469 [==============================] - 11s 23ms/step - loss: 0.0056 - val_loss: 0.0169\n",
            "Epoch 256/300\n",
            "469/469 [==============================] - 11s 23ms/step - loss: 0.0056 - val_loss: 0.0168\n",
            "Epoch 257/300\n",
            "469/469 [==============================] - 11s 24ms/step - loss: 0.0056 - val_loss: 0.0171\n",
            "Epoch 258/300\n",
            "469/469 [==============================] - 11s 24ms/step - loss: 0.0056 - val_loss: 0.0167\n",
            "Epoch 259/300\n",
            "469/469 [==============================] - 11s 24ms/step - loss: 0.0056 - val_loss: 0.0167\n",
            "Epoch 260/300\n",
            "469/469 [==============================] - 11s 24ms/step - loss: 0.0056 - val_loss: 0.0168\n",
            "Epoch 261/300\n",
            "469/469 [==============================] - 10s 22ms/step - loss: 0.0056 - val_loss: 0.0169\n",
            "Epoch 262/300\n",
            "469/469 [==============================] - 10s 22ms/step - loss: 0.0056 - val_loss: 0.0167\n",
            "Epoch 263/300\n",
            "469/469 [==============================] - 10s 22ms/step - loss: 0.0056 - val_loss: 0.0164\n",
            "Epoch 264/300\n",
            "469/469 [==============================] - 10s 22ms/step - loss: 0.0056 - val_loss: 0.0165\n",
            "Epoch 265/300\n",
            "469/469 [==============================] - 11s 22ms/step - loss: 0.0056 - val_loss: 0.0163\n",
            "Epoch 266/300\n",
            "469/469 [==============================] - 10s 22ms/step - loss: 0.0056 - val_loss: 0.0165\n",
            "Epoch 267/300\n",
            "469/469 [==============================] - 10s 22ms/step - loss: 0.0056 - val_loss: 0.0165\n",
            "Epoch 268/300\n",
            "469/469 [==============================] - 10s 22ms/step - loss: 0.0056 - val_loss: 0.0168\n",
            "Epoch 269/300\n",
            "469/469 [==============================] - 10s 22ms/step - loss: 0.0056 - val_loss: 0.0167\n",
            "Epoch 270/300\n",
            "469/469 [==============================] - 10s 22ms/step - loss: 0.0056 - val_loss: 0.0165\n",
            "Epoch 271/300\n",
            "469/469 [==============================] - 10s 22ms/step - loss: 0.0056 - val_loss: 0.0165\n",
            "Epoch 272/300\n",
            "469/469 [==============================] - 11s 23ms/step - loss: 0.0056 - val_loss: 0.0172\n",
            "Epoch 273/300\n",
            "469/469 [==============================] - 11s 22ms/step - loss: 0.0055 - val_loss: 0.0167\n",
            "Epoch 274/300\n",
            "469/469 [==============================] - 10s 22ms/step - loss: 0.0056 - val_loss: 0.0167\n",
            "Epoch 275/300\n",
            "469/469 [==============================] - 10s 22ms/step - loss: 0.0056 - val_loss: 0.0167\n",
            "Epoch 276/300\n",
            "469/469 [==============================] - 11s 23ms/step - loss: 0.0056 - val_loss: 0.0171\n",
            "Epoch 277/300\n",
            "469/469 [==============================] - 10s 22ms/step - loss: 0.0055 - val_loss: 0.0169\n",
            "Epoch 278/300\n",
            "469/469 [==============================] - 10s 22ms/step - loss: 0.0056 - val_loss: 0.0165\n",
            "Epoch 279/300\n",
            "469/469 [==============================] - 10s 22ms/step - loss: 0.0056 - val_loss: 0.0173\n",
            "Epoch 280/300\n",
            "469/469 [==============================] - 11s 22ms/step - loss: 0.0055 - val_loss: 0.0166\n",
            "Epoch 281/300\n",
            "469/469 [==============================] - 11s 22ms/step - loss: 0.0055 - val_loss: 0.0171\n",
            "Epoch 282/300\n",
            "469/469 [==============================] - 10s 22ms/step - loss: 0.0055 - val_loss: 0.0170\n",
            "Epoch 283/300\n",
            "469/469 [==============================] - 11s 22ms/step - loss: 0.0056 - val_loss: 0.0169\n",
            "Epoch 284/300\n",
            "469/469 [==============================] - 11s 22ms/step - loss: 0.0055 - val_loss: 0.0174\n",
            "Epoch 285/300\n",
            "469/469 [==============================] - 10s 22ms/step - loss: 0.0055 - val_loss: 0.0167\n",
            "Epoch 286/300\n",
            "469/469 [==============================] - 10s 22ms/step - loss: 0.0055 - val_loss: 0.0165\n",
            "Epoch 287/300\n",
            "469/469 [==============================] - 10s 22ms/step - loss: 0.0055 - val_loss: 0.0167\n",
            "Epoch 288/300\n",
            "469/469 [==============================] - 10s 22ms/step - loss: 0.0055 - val_loss: 0.0169\n",
            "Epoch 289/300\n",
            "469/469 [==============================] - 11s 22ms/step - loss: 0.0055 - val_loss: 0.0170\n",
            "Epoch 290/300\n",
            "469/469 [==============================] - 10s 22ms/step - loss: 0.0055 - val_loss: 0.0166\n",
            "Epoch 291/300\n",
            "469/469 [==============================] - 11s 23ms/step - loss: 0.0055 - val_loss: 0.0169\n",
            "Epoch 292/300\n",
            "469/469 [==============================] - 11s 22ms/step - loss: 0.0055 - val_loss: 0.0164\n",
            "Epoch 293/300\n",
            "469/469 [==============================] - 10s 22ms/step - loss: 0.0055 - val_loss: 0.0168\n",
            "Epoch 294/300\n",
            "469/469 [==============================] - 10s 22ms/step - loss: 0.0055 - val_loss: 0.0164\n",
            "Epoch 295/300\n",
            "469/469 [==============================] - 10s 22ms/step - loss: 0.0055 - val_loss: 0.0172\n",
            "Epoch 296/300\n",
            "469/469 [==============================] - 10s 22ms/step - loss: 0.0055 - val_loss: 0.0167\n",
            "Epoch 297/300\n",
            "469/469 [==============================] - 10s 22ms/step - loss: 0.0055 - val_loss: 0.0173\n",
            "Epoch 298/300\n",
            "469/469 [==============================] - 10s 22ms/step - loss: 0.0055 - val_loss: 0.0174\n",
            "Epoch 299/300\n",
            "469/469 [==============================] - 10s 22ms/step - loss: 0.0055 - val_loss: 0.0166\n",
            "Epoch 300/300\n",
            "469/469 [==============================] - 11s 23ms/step - loss: 0.0055 - val_loss: 0.0166\n"
          ]
        }
      ]
    },
    {
      "cell_type": "code",
      "source": [
        "pd.DataFrame(history.history).plot()"
      ],
      "metadata": {
        "colab": {
          "base_uri": "https://localhost:8080/",
          "height": 283
        },
        "id": "XAtnRXpsvRNl",
        "outputId": "b16c6323-9f79-4322-c36e-d1d80baf5993"
      },
      "execution_count": 144,
      "outputs": [
        {
          "output_type": "execute_result",
          "data": {
            "text/plain": [
              "<matplotlib.axes._subplots.AxesSubplot at 0x7f28f1334910>"
            ]
          },
          "metadata": {},
          "execution_count": 144
        },
        {
          "output_type": "display_data",
          "data": {
            "image/png": "[encoded data removed]",
            "text/plain": [
              "<Figure size 432x288 with 1 Axes>"
            ]
          },
          "metadata": {
            "needs_background": "light"
          }
        }
      ]
    },
    {
      "cell_type": "code",
      "source": [
        "samples = 10\n",
        "indexes = np.random.choice(len(X_test_noisy), samples)\n",
        "test_vals = X_test_noisy[indexes]\n",
        "predictions = autoencoder.predict(test_vals)"
      ],
      "metadata": {
        "id": "1o5t0XjkjlNQ"
      },
      "execution_count": 145,
      "outputs": []
    },
    {
      "cell_type": "code",
      "source": [
        "original_shape = (samples, 28, 28)\n",
        "predictions = predictions.reshape(original_shape)\n",
        "test_vals = test_vals.reshape(original_shape)\n",
        "predictions = (predictions * 255).astype(\"uint8\")\n",
        "test_vals = (test_vals * 255).astype(\"uint8\")\n",
        "\n",
        "plot_original_vs_generated(test_vals, predictions)"
      ],
      "metadata": {
        "colab": {
          "base_uri": "https://localhost:8080/",
          "height": 264
        },
        "id": "E6BZ8y4UjaS1",
        "outputId": "814c94b7-dfbb-4c4b-b73b-cf02b6c5d761"
      },
      "execution_count": 147,
      "outputs": [
        {
          "output_type": "display_data",
          "data": {
            "image/png": "[encoded data removed]",
            "text/plain": [
              "<Figure size 432x288 with 1 Axes>"
            ]
          },
          "metadata": {
            "needs_background": "light"
          }
        }
      ]
    }
  ]
}